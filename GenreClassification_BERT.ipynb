{
  "nbformat": 4,
  "nbformat_minor": 0,
  "metadata": {
    "colab": {
      "name": "GenreClassification_BERT.ipynb",
      "provenance": [],
      "collapsed_sections": [
        "T96GzTbn1xs7"
      ],
      "machine_shape": "hm",
      "authorship_tag": "ABX9TyPDYYJRr7Zu6OjL4y65MXJ4",
      "include_colab_link": true
    },
    "kernelspec": {
      "name": "python3",
      "display_name": "Python 3"
    },
    "language_info": {
      "name": "python"
    }
  },
  "cells": [
    {
      "cell_type": "markdown",
      "metadata": {
        "id": "view-in-github",
        "colab_type": "text"
      },
      "source": [
        "<a href=\"https://colab.research.google.com/github/Stone-bridge-NLP/BERT/blob/main/GenreClassification_BERT.ipynb\" target=\"_parent\"><img src=\"https://colab.research.google.com/assets/colab-badge.svg\" alt=\"Open In Colab\"/></a>"
      ]
    },
    {
      "cell_type": "markdown",
      "metadata": {
        "id": "T96GzTbn1xs7"
      },
      "source": [
        "# Setting environment"
      ]
    },
    {
      "cell_type": "code",
      "metadata": {
        "id": "vePqUrupRO16",
        "colab": {
          "base_uri": "https://localhost:8080/"
        },
        "outputId": "69bf0d87-a79a-4032-aa2e-5a715404cee0"
      },
      "source": [
        "# required packages to use BERT via hub models\n",
        "%%bash\n",
        "pip install tqdm boto3 requests regex sentencepiece sacremoses"
      ],
      "execution_count": 1,
      "outputs": [
        {
          "output_type": "stream",
          "name": "stdout",
          "text": [
            "Requirement already satisfied: tqdm in /usr/local/lib/python3.7/dist-packages (4.62.3)\n",
            "Collecting boto3\n",
            "  Downloading boto3-1.20.13-py3-none-any.whl (131 kB)\n",
            "Requirement already satisfied: requests in /usr/local/lib/python3.7/dist-packages (2.23.0)\n",
            "Requirement already satisfied: regex in /usr/local/lib/python3.7/dist-packages (2019.12.20)\n",
            "Collecting sentencepiece\n",
            "  Downloading sentencepiece-0.1.96-cp37-cp37m-manylinux_2_17_x86_64.manylinux2014_x86_64.whl (1.2 MB)\n",
            "Collecting sacremoses\n",
            "  Downloading sacremoses-0.0.46-py3-none-any.whl (895 kB)\n",
            "Collecting botocore<1.24.0,>=1.23.13\n",
            "  Downloading botocore-1.23.13-py3-none-any.whl (8.2 MB)\n",
            "Collecting jmespath<1.0.0,>=0.7.1\n",
            "  Downloading jmespath-0.10.0-py2.py3-none-any.whl (24 kB)\n",
            "Collecting s3transfer<0.6.0,>=0.5.0\n",
            "  Downloading s3transfer-0.5.0-py3-none-any.whl (79 kB)\n",
            "Collecting urllib3<1.27,>=1.25.4\n",
            "  Downloading urllib3-1.26.7-py2.py3-none-any.whl (138 kB)\n",
            "Requirement already satisfied: python-dateutil<3.0.0,>=2.1 in /usr/local/lib/python3.7/dist-packages (from botocore<1.24.0,>=1.23.13->boto3) (2.8.2)\n",
            "Requirement already satisfied: six>=1.5 in /usr/local/lib/python3.7/dist-packages (from python-dateutil<3.0.0,>=2.1->botocore<1.24.0,>=1.23.13->boto3) (1.15.0)\n",
            "Requirement already satisfied: chardet<4,>=3.0.2 in /usr/local/lib/python3.7/dist-packages (from requests) (3.0.4)\n",
            "  Downloading urllib3-1.25.11-py2.py3-none-any.whl (127 kB)\n",
            "Requirement already satisfied: idna<3,>=2.5 in /usr/local/lib/python3.7/dist-packages (from requests) (2.10)\n",
            "Requirement already satisfied: certifi>=2017.4.17 in /usr/local/lib/python3.7/dist-packages (from requests) (2021.10.8)\n",
            "Requirement already satisfied: click in /usr/local/lib/python3.7/dist-packages (from sacremoses) (7.1.2)\n",
            "Requirement already satisfied: joblib in /usr/local/lib/python3.7/dist-packages (from sacremoses) (1.1.0)\n",
            "Installing collected packages: urllib3, jmespath, botocore, s3transfer, sentencepiece, sacremoses, boto3\n",
            "  Attempting uninstall: urllib3\n",
            "    Found existing installation: urllib3 1.24.3\n",
            "    Uninstalling urllib3-1.24.3:\n",
            "      Successfully uninstalled urllib3-1.24.3\n",
            "Successfully installed boto3-1.20.13 botocore-1.23.13 jmespath-0.10.0 s3transfer-0.5.0 sacremoses-0.0.46 sentencepiece-0.1.96 urllib3-1.25.11\n"
          ]
        },
        {
          "output_type": "stream",
          "name": "stderr",
          "text": [
            "ERROR: pip's dependency resolver does not currently take into account all the packages that are installed. This behaviour is the source of the following dependency conflicts.\n",
            "datascience 0.10.6 requires folium==0.2.1, but you have folium 0.8.3 which is incompatible.\n"
          ]
        }
      ]
    },
    {
      "cell_type": "code",
      "metadata": {
        "id": "egzjO2iBRmft",
        "colab": {
          "base_uri": "https://localhost:8080/"
        },
        "outputId": "e68b5d93-8802-4814-9495-1713e0c6e105"
      },
      "source": [
        "# additional packages required (to avoid error, not mentioned in the tutorial)\n",
        "!pip install huggingface_hub\n",
        "!pip install tokenizers"
      ],
      "execution_count": 2,
      "outputs": [
        {
          "output_type": "stream",
          "name": "stdout",
          "text": [
            "Collecting huggingface_hub\n",
            "  Downloading huggingface_hub-0.1.2-py3-none-any.whl (59 kB)\n",
            "\u001b[?25l\r\u001b[K     |█████▌                          | 10 kB 22.7 MB/s eta 0:00:01\r\u001b[K     |███████████                     | 20 kB 28.0 MB/s eta 0:00:01\r\u001b[K     |████████████████▌               | 30 kB 21.3 MB/s eta 0:00:01\r\u001b[K     |██████████████████████          | 40 kB 17.0 MB/s eta 0:00:01\r\u001b[K     |███████████████████████████▌    | 51 kB 5.7 MB/s eta 0:00:01\r\u001b[K     |████████████████████████████████| 59 kB 2.6 MB/s \n",
            "\u001b[?25hRequirement already satisfied: filelock in /usr/local/lib/python3.7/dist-packages (from huggingface_hub) (3.4.0)\n",
            "Requirement already satisfied: pyyaml in /usr/local/lib/python3.7/dist-packages (from huggingface_hub) (3.13)\n",
            "Requirement already satisfied: requests in /usr/local/lib/python3.7/dist-packages (from huggingface_hub) (2.23.0)\n",
            "Requirement already satisfied: importlib-metadata in /usr/local/lib/python3.7/dist-packages (from huggingface_hub) (4.8.2)\n",
            "Requirement already satisfied: typing-extensions>=3.7.4.3 in /usr/local/lib/python3.7/dist-packages (from huggingface_hub) (3.10.0.2)\n",
            "Requirement already satisfied: packaging>=20.9 in /usr/local/lib/python3.7/dist-packages (from huggingface_hub) (21.3)\n",
            "Requirement already satisfied: tqdm in /usr/local/lib/python3.7/dist-packages (from huggingface_hub) (4.62.3)\n",
            "Requirement already satisfied: pyparsing!=3.0.5,>=2.0.2 in /usr/local/lib/python3.7/dist-packages (from packaging>=20.9->huggingface_hub) (3.0.6)\n",
            "Requirement already satisfied: zipp>=0.5 in /usr/local/lib/python3.7/dist-packages (from importlib-metadata->huggingface_hub) (3.6.0)\n",
            "Requirement already satisfied: certifi>=2017.4.17 in /usr/local/lib/python3.7/dist-packages (from requests->huggingface_hub) (2021.10.8)\n",
            "Requirement already satisfied: idna<3,>=2.5 in /usr/local/lib/python3.7/dist-packages (from requests->huggingface_hub) (2.10)\n",
            "Requirement already satisfied: urllib3!=1.25.0,!=1.25.1,<1.26,>=1.21.1 in /usr/local/lib/python3.7/dist-packages (from requests->huggingface_hub) (1.25.11)\n",
            "Requirement already satisfied: chardet<4,>=3.0.2 in /usr/local/lib/python3.7/dist-packages (from requests->huggingface_hub) (3.0.4)\n",
            "Installing collected packages: huggingface-hub\n",
            "Successfully installed huggingface-hub-0.1.2\n",
            "Collecting tokenizers\n",
            "  Downloading tokenizers-0.10.3-cp37-cp37m-manylinux_2_5_x86_64.manylinux1_x86_64.manylinux_2_12_x86_64.manylinux2010_x86_64.whl (3.3 MB)\n",
            "\u001b[K     |████████████████████████████████| 3.3 MB 5.2 MB/s \n",
            "\u001b[?25hInstalling collected packages: tokenizers\n",
            "Successfully installed tokenizers-0.10.3\n"
          ]
        }
      ]
    },
    {
      "cell_type": "code",
      "metadata": {
        "colab": {
          "base_uri": "https://localhost:8080/"
        },
        "id": "ig7TfaOGIQAa",
        "outputId": "6848427f-2a36-4162-86ef-c0516b7943ac"
      },
      "source": [
        "!git clone https://github.com/Stone-bridge-NLP/BERT.git\n",
        "%cd /content/BERT"
      ],
      "execution_count": 3,
      "outputs": [
        {
          "output_type": "stream",
          "name": "stdout",
          "text": [
            "Cloning into 'BERT'...\n",
            "remote: Enumerating objects: 31, done.\u001b[K\n",
            "remote: Counting objects: 100% (31/31), done.\u001b[K\n",
            "remote: Compressing objects: 100% (30/30), done.\u001b[K\n",
            "remote: Total 31 (delta 4), reused 0 (delta 0), pack-reused 0\u001b[K\n",
            "Unpacking objects: 100% (31/31), done.\n",
            "/content/BERT\n"
          ]
        }
      ]
    },
    {
      "cell_type": "code",
      "metadata": {
        "colab": {
          "base_uri": "https://localhost:8080/"
        },
        "id": "ggj4meohZ_SO",
        "outputId": "cacfa4c5-c7d7-41d3-be54-dccf8da04c60"
      },
      "source": [
        "# download shared dataset to local disk\n",
        "# [차도인] [오후 9:37] https://drive.google.com/file/d/168nKQ3EsCGfUxNNNJMYBBoWWyEmivtE-/view?usp=sharing\n",
        "!gdown --id 168nKQ3EsCGfUxNNNJMYBBoWWyEmivtE-\n",
        "FILENAME = 'preprocessed_train_data.csv'"
      ],
      "execution_count": 4,
      "outputs": [
        {
          "output_type": "stream",
          "name": "stdout",
          "text": [
            "Downloading...\n",
            "From: https://drive.google.com/uc?id=168nKQ3EsCGfUxNNNJMYBBoWWyEmivtE-\n",
            "To: /content/BERT/preprocessed_train_data.csv\n",
            "100% 252M/252M [00:01<00:00, 161MB/s]\n"
          ]
        }
      ]
    },
    {
      "cell_type": "markdown",
      "metadata": {
        "id": "biD7Q15Q2BIx"
      },
      "source": [
        "# Train model"
      ]
    },
    {
      "cell_type": "code",
      "metadata": {
        "id": "4RkJ0OFQR2mx"
      },
      "source": [
        "import pandas as pd\n",
        "import numpy as np\n",
        "import random\n",
        "import torch\n",
        "import torch.nn as nn\n",
        "import torch.optim as optim\n",
        "from torch.utils.data import Dataset\n",
        "from torch.utils.data import DataLoader\n",
        "import utils"
      ],
      "execution_count": 5,
      "outputs": []
    },
    {
      "cell_type": "code",
      "metadata": {
        "id": "UK3M4EJrdWMS",
        "colab": {
          "base_uri": "https://localhost:8080/"
        },
        "outputId": "df758874-20fb-4c5f-dd8b-be76f4ddd36d"
      },
      "source": [
        "train_dataset = pd.read_csv('./'+FILENAME)\n",
        "print(train_dataset)"
      ],
      "execution_count": 6,
      "outputs": [
        {
          "output_type": "stream",
          "name": "stdout",
          "text": [
            "        Unnamed: 0  Genre                                             Lyrics\n",
            "0                0   Rock  it starts with pain followed by hate fueled by...\n",
            "1                1   Rock  freedom alone again again alone patiently wait...\n",
            "2                2   Rock  biting the hand that feeds you lying to the vo...\n",
            "3                3   Rock  you say you know just who i am but you can t i...\n",
            "4                4   Rock  my heart is beating faster can t control these...\n",
            "...            ...    ...                                                ...\n",
            "209268      249943    R&B  i m the best friend he s got i d give him the ...\n",
            "209269      249944    Pop  bad boys blue i totally miss you i did you wro...\n",
            "209270      249945    Pop  forgive me for the things that i never said to...\n",
            "209271      249946  Indie  the day they found a cure for aids the day the...\n",
            "209272      249947    Pop  fourth of july has come it s custom that we go...\n",
            "\n",
            "[209273 rows x 3 columns]\n"
          ]
        }
      ]
    },
    {
      "cell_type": "code",
      "metadata": {
        "id": "X4-DKI1PCpBH"
      },
      "source": [
        "# Balance sampling of the DATA.\n",
        "# problem here is that some genre is oversampled too much(copied 11 times)\n",
        "# another problem is that this samping happens during the runtime,\n",
        "# so train set and validation set is mixed up every new runtime\n",
        "# ==========SOLUTION========\n",
        "# First split the whole train data into 8:2 train and validation set\n",
        "# to make sure they do not get mixed up\n",
        "# Reduce the dataset to desired size afterwards\n",
        "# \n",
        "# To prevent overcopying, start the learning with equally distributed small dataset\n",
        "# Rather than overcopying, use the weighted loss\n",
        "# while gradually breaking the balance by less undersampling\n",
        "\n",
        "Genre = ['Electronic', 'Country', 'R&B', 'Jazz', 'Indie', 'Pop', 'Folk', 'Metal', 'Hip-Hop', 'Rock']\n",
        "train_dataset = train_dataset[['Genre', 'Lyrics']]\n",
        "train_dataset = train_dataset.drop(train_dataset[train_dataset['Genre']=='en'].index)\n",
        "\n",
        "\n",
        "print('====== validation set =======')\n",
        "val_d = []\n",
        "for genre in Genre:\n",
        "  td = train_dataset[train_dataset['Genre'] == genre]\n",
        "  val_d.append(td.sample(frac=0.2,random_state=31415))\n",
        "  print(f'{genre}\\tsample ratio\\t {len(td)}:{len(val_d[-1])}')  \n",
        "val_dataset = pd.concat(val_d)\n",
        "\n",
        "train_dataset = train_dataset.drop(val_dataset.index)\n",
        "\n",
        "train_dataset = train_dataset.reset_index().drop(columns='index')\n",
        "val_dataset = val_dataset.reset_index().drop(columns='index')\n",
        "    "
      ],
      "execution_count": 7,
      "outputs": []
    },
    {
      "cell_type": "code",
      "metadata": {
        "id": "hFmibSO3Li9e"
      },
      "source": [
        "class LyricsAndGenreDataset(Dataset):\n",
        "  def __init__(self, dataframe, tokenizer, num_sentence):\n",
        "    self.df = dataframe\n",
        "    self.tk = tokenizer\n",
        "    self.num_sentence = num_sentence\n",
        "    self.genre_name2id = {\n",
        "        'Electronic':0, \n",
        "        'Country':1, \n",
        "        'R&B':2, \n",
        "        'Jazz':3, \n",
        "        'Indie':4, \n",
        "        'Pop':5, \n",
        "        'Folk':6, \n",
        "        'Metal':7, \n",
        "        'Hip-Hop':8, \n",
        "        'Rock':9}\n",
        "\n",
        "  def __len__(self):\n",
        "    return len(self.df)\n",
        "  \n",
        "  def __getitem__(self, idx):\n",
        "    if torch.is_tensor(idx):\n",
        "      idx = idx.tolist()\n",
        "\n",
        "    genre = self.genre_name2id[self.df['Genre'][idx]]\n",
        "    lyric = [self.df['Lyrics'][idx]]\n",
        "\n",
        "    with torch.no_grad():\n",
        "      indexed_tokens = self.tk.batch_encode_plus(\n",
        "            lyric, add_special_tokens=True, padding= 'max_length', \n",
        "            max_length=2**9*self.num_sentence, truncation=True)\n",
        "      \n",
        "      tk_tensor = torch.tensor(indexed_tokens['input_ids']).view(-1,2**9)\n",
        "      sg_tensor = torch.tensor(indexed_tokens['token_type_ids']).view(-1,2**9)\n",
        "      at_tensor = torch.tensor(indexed_tokens['attention_mask']).view(-1,2**9)\n",
        "\n",
        "    return genre, tk_tensor, sg_tensor, at_tensor\n",
        "\n"
      ],
      "execution_count": 8,
      "outputs": []
    },
    {
      "cell_type": "code",
      "metadata": {
        "id": "2CRm3ZSysDXL"
      },
      "source": [
        "class TextLSTM(nn.Module):\n",
        "  def __init__(self, input_size, hidden_size, n_class, dropout):\n",
        "    super(TextLSTM, self).__init__()\n",
        "\n",
        "    self.hidden_size = hidden_size\n",
        "\n",
        "    self.lstm1 = nn.LSTM(\n",
        "              input_size=input_size,\n",
        "              hidden_size=hidden_size*5,\n",
        "              num_layers=1,\n",
        "              dropout=0,\n",
        "              batch_first=True)\n",
        "    \n",
        "    self.lstm2 = nn.LSTM(\n",
        "              input_size=hidden_size*5,\n",
        "              hidden_size=hidden_size*4,\n",
        "              num_layers=1,\n",
        "              dropout=0,\n",
        "              batch_first=True)\n",
        "\n",
        "    self.lstm3 = nn.LSTM(\n",
        "              input_size=hidden_size*4,\n",
        "              hidden_size=hidden_size*2,\n",
        "              num_layers=1,\n",
        "              dropout=0,\n",
        "              batch_first=True)\n",
        "    \n",
        "    self.lstm4 = nn.LSTM(\n",
        "              input_size=hidden_size*2,\n",
        "              hidden_size=hidden_size,\n",
        "              num_layers=1,\n",
        "              dropout=0,\n",
        "              batch_first=True)\n",
        "\n",
        "    self.dense = nn.Sequential(\n",
        "        nn.Dropout(dropout),\n",
        "        nn.ReLU(),\n",
        "        nn.Linear(hidden_size, n_class),\n",
        "        nn.Softmax(dim=1))\n",
        "\n",
        "  def forward(self, X, seq_len):\n",
        "    # X of shape N,L,Hin\n",
        "    # hidden_and_cell zeros by default\n",
        "    # outputs of shape N,L,Hout\n",
        "    outputs = X\n",
        "    outputs, hidden_and_cell = self.lstm1(outputs)\n",
        "    outputs, hidden_and_cell = self.lstm2(outputs)\n",
        "    outputs, hidden_and_cell = self.lstm3(outputs)\n",
        "    outputs, hidden_and_cell = self.lstm4(outputs)\n",
        "    seq_len = torch.tile(seq_len.view(batch_size,1,1),(1,1,self.hidden_size))\n",
        "    outputs = torch.gather(outputs,1,seq_len)\n",
        "    outputs = outputs[:,-1]  # last hidden Layer of shape N,Hout\n",
        "    return self.dense(outputs) # return of shape N,n_class"
      ],
      "execution_count": 9,
      "outputs": []
    },
    {
      "cell_type": "code",
      "metadata": {
        "id": "BzydjUUw-8cv"
      },
      "source": [
        "#### hyperparameters ####\n",
        "epoch = 24\n",
        "lr = 0.001\n",
        "batch_size = 128\n",
        "num_sentences = 1 # one sentence has 512 tokens\n",
        "hidden_size = 128\n",
        "num_layers = 1\n",
        "dropout = 0\n",
        "save_epoch = 1\n",
        "save_path = 'checkpoint.pth'\n",
        "epoch_start = 0\n",
        "dataset_fraction = 0.08\n",
        "\n",
        "# fixed\n",
        "v_dim = 768\n",
        "n_genre = 10\n",
        "genre_id2name = ['Electronic', 'Country', 'R&B', 'Jazz', 'Indie', 'Pop', 'Folk', 'Metal', 'Hip-Hop', 'Rock']\n",
        "genre_name2id = {'Electronic':0, 'Country':1, 'R&B':2, 'Jazz':3, 'Indie':4, 'Pop':5, 'Folk':6, 'Metal':7, 'Hip-Hop':8, 'Rock':9}\n",
        "device = torch.device('cuda') if (torch.cuda.is_available())else torch.device('cpu')"
      ],
      "execution_count": 18,
      "outputs": []
    },
    {
      "cell_type": "code",
      "metadata": {
        "colab": {
          "base_uri": "https://localhost:8080/",
          "height": 525
        },
        "id": "bKQ4Hitqbsn5",
        "outputId": "5ef12276-4390-47bb-e593-9d6dab146340"
      },
      "source": [
        "# load pretrained BERT tokenizer and bare BERT model\n",
        "tokenizer = torch.hub.load('huggingface/pytorch-transformers', 'tokenizer', 'bert-base-cased')\n",
        "bert_embedding = torch.hub.load('huggingface/pytorch-transformers', 'model', 'bert-base-cased').to(device)\n",
        "\n",
        "# undersample the dataset to desired size\n",
        "reduced_train_dset,tr_loss_coef = utils.dfRandomSample(train_dataset,dataset_fraction)\n",
        "print(tr_loss_coef)\n",
        "reduced_val_dset, vl_loss_coef = utils.dfRandomSample(val_dataset,dataset_fraction)\n",
        "print(vl_loss_coef)\n",
        "\n",
        "# declare torch.utils.data.Dataset\n",
        "train_set = LyricsAndGenreDataset(reduced_train_dset,tokenizer,num_sentences)\n",
        "val_set = LyricsAndGenreDataset(reduced_val_dset,tokenizer,num_sentences)\n",
        "\n",
        "# train and validation data loader\n",
        "train_loader = DataLoader(train_set,batch_size=batch_size, shuffle=True, \n",
        "                          num_workers=0, drop_last=True)\n",
        "val_loader = DataLoader(val_set,batch_size=batch_size, shuffle=True, \n",
        "                          num_workers=0, drop_last=True)\n",
        "\n",
        "lstm_classifier = TextLSTM(v_dim, hidden_size, n_genre, dropout).to(device)\n",
        "\n",
        "# load model if possible\n",
        "try:\n",
        "  cp = torch.load(save_path)\n",
        "  epoch_start= cp['current_epoch']+1\n",
        "  lstm_classifier.load_state_dict(cp['model'])\n",
        "  print(f'\\nsavefile from {save_path} loaded')\n",
        "except FileNotFoundError:\n",
        "  print('\\nno savefile to load')\n",
        "\n",
        "print(lstm_classifier)\n",
        "print(sum(p.numel() for p in lstm_classifier.parameters() if p.requires_grad))\n",
        "loss_func = nn.CrossEntropyLoss(reduction='none')\n",
        "params = list(lstm_classifier.parameters())\n",
        "optimizer = optim.Adam(params, lr=lr)"
      ],
      "execution_count": 19,
      "outputs": [
        {
          "output_type": "stream",
          "name": "stdout",
          "text": [
            "====================\n",
            "Country\t sample ratio\t 1594:1594\n",
            "Electronic\t sample ratio\t 1831:1683\n",
            "Hip-Hop\t sample ratio\t 2068:1683\n",
            "R&B\t sample ratio\t 2482:1683\n",
            "Indie\t sample ratio\t 6509:1683\n",
            "Jazz\t sample ratio\t 7026:1683\n",
            "Folk\t sample ratio\t 7333:1683\n",
            "Metal\t sample ratio\t 17283:1683\n",
            "Pop\t sample ratio\t 69934:1683\n",
            "Rock\t sample ratio\t 93213:1683\n",
            "Total size : 16741\n",
            "\n",
            "{'Indie': 0.9947118241235888, 'Rock': 0.9947118241235888, 'Electronic': 0.9947118241235888, 'Jazz': 0.9947118241235888, 'Metal': 0.9947118241235888, 'Hip-Hop': 0.9947118241235888, 'Folk': 0.9947118241235888, 'R&B': 0.9947118241235888, 'Pop': 0.9947118241235888, 'Country': 1.050250941028858}\n"
          ]
        },
        {
          "output_type": "error",
          "ename": "NameError",
          "evalue": "ignored",
          "traceback": [
            "\u001b[0;31m---------------------------------------------------------------------------\u001b[0m",
            "\u001b[0;31mNameError\u001b[0m                                 Traceback (most recent call last)",
            "\u001b[0;32m<ipython-input-19-6de9e2525dce>\u001b[0m in \u001b[0;36m<module>\u001b[0;34m()\u001b[0m\n\u001b[1;32m      6\u001b[0m \u001b[0mreduced_train_dset\u001b[0m\u001b[0;34m,\u001b[0m\u001b[0mtr_loss_coef\u001b[0m \u001b[0;34m=\u001b[0m \u001b[0mutils\u001b[0m\u001b[0;34m.\u001b[0m\u001b[0mdfRandomSample\u001b[0m\u001b[0;34m(\u001b[0m\u001b[0mtrain_dataset\u001b[0m\u001b[0;34m,\u001b[0m\u001b[0mdataset_fraction\u001b[0m\u001b[0;34m)\u001b[0m\u001b[0;34m\u001b[0m\u001b[0;34m\u001b[0m\u001b[0m\n\u001b[1;32m      7\u001b[0m \u001b[0mprint\u001b[0m\u001b[0;34m(\u001b[0m\u001b[0mtr_loss_coef\u001b[0m\u001b[0;34m)\u001b[0m\u001b[0;34m\u001b[0m\u001b[0;34m\u001b[0m\u001b[0m\n\u001b[0;32m----> 8\u001b[0;31m \u001b[0mreduced_val_dset\u001b[0m\u001b[0;34m,\u001b[0m \u001b[0mvl_loss_coef\u001b[0m \u001b[0;34m=\u001b[0m \u001b[0mutils\u001b[0m\u001b[0;34m.\u001b[0m\u001b[0mdfRandomSample\u001b[0m\u001b[0;34m(\u001b[0m\u001b[0mval_dataset\u001b[0m\u001b[0;34m,\u001b[0m\u001b[0mdataset_fraction\u001b[0m\u001b[0;34m)\u001b[0m\u001b[0;34m\u001b[0m\u001b[0;34m\u001b[0m\u001b[0m\n\u001b[0m\u001b[1;32m      9\u001b[0m \u001b[0mprint\u001b[0m\u001b[0;34m(\u001b[0m\u001b[0mvl_loss_coef\u001b[0m\u001b[0;34m)\u001b[0m\u001b[0;34m\u001b[0m\u001b[0;34m\u001b[0m\u001b[0m\n\u001b[1;32m     10\u001b[0m \u001b[0;34m\u001b[0m\u001b[0m\n",
            "\u001b[0;31mNameError\u001b[0m: name 'val_dataset' is not defined"
          ]
        }
      ]
    },
    {
      "cell_type": "code",
      "metadata": {
        "colab": {
          "base_uri": "https://localhost:8080/"
        },
        "id": "Fy50XfKoQ6dj",
        "outputId": "e28b3e92-25eb-4edf-975e-3abde2a1191c"
      },
      "source": [
        "train_loss_list = []\n",
        "val_loss_list = []\n",
        "train_acc_list = []\n",
        "val_acc_list = []\n",
        "\n",
        "\n",
        "for e in range(epoch_start, epoch, 1):\n",
        "  for b,batch in enumerate(train_loader):\n",
        "    label_batch = batch[0].to(device)\n",
        "    tk_batch = batch[1].to(device)\n",
        "    sg_batch = batch[2].to(device)\n",
        "    at_batch = batch[3].to(device)\n",
        "\n",
        "    seq_len = np.sum(at_batch.detach().cpu().numpy(), axis=(1,2)) - 1\n",
        "    seq_len = torch.LongTensor(seq_len).to(device)\n",
        "\n",
        "    loss_coef = torch.tensor(\n",
        "        [tr_loss_coef[genre_id2name[i]] for i in batch[0]]).to(device)\n",
        "\n",
        "    with torch.no_grad():\n",
        "      embedding = bert_embedding(\n",
        "          tk_batch.view(-1,2**9), \n",
        "          token_type_ids= sg_batch.view(-1,2**9),\n",
        "          attention_mask=at_batch.view(-1,2**9))\n",
        "\n",
        "    embedded_tokens = embedding[0].detach().view(batch_size,2**9*num_sentences,-1)\n",
        "\n",
        "    output = lstm_classifier.forward(embedded_tokens, seq_len)\n",
        "\n",
        "    optimizer.zero_grad()\n",
        "    loss = torch.mean(loss_coef*loss_func(output, label_batch))\n",
        "    loss.backward()\n",
        "    optimizer.step()\n",
        "    \n",
        "    if b%4 == 0:\n",
        "      train_loss_list.append(float(loss.detach().cpu().data))\n",
        "      pred = np.argmax(output.detach().cpu().numpy(),axis=1).flatten()\n",
        "      acc = np.mean(pred == label_batch.detach().cpu().numpy().flatten())\n",
        "      train_acc_list.append(float(acc))\n",
        "\n",
        "      print(f'\\rTRAIN: epoch [{e}/{epoch}] batch [{b}/{len(train_loader)}]\\\n",
        "       loss {train_loss_list[-1]}\\t acc {train_acc_list[-1]}', end='\\t')\n",
        "\n",
        "  for b,batch in enumerate(val_loader):\n",
        "    label_batch = batch[0].to(device)\n",
        "    tk_batch = batch[1].to(device)\n",
        "    sg_batch = batch[2].to(device)\n",
        "    at_batch = batch[3].to(device)\n",
        "\n",
        "    seq_len = np.sum(at_batch.detach().cpu().numpy(), axis=(1,2)) - 1\n",
        "    seq_len = torch.LongTensor(seq_len).to(device)\n",
        "\n",
        "    loss_coef = torch.tensor(\n",
        "        [vl_loss_coef[genre_id2name[i]] for i in batch[0]]).to(device)\n",
        "\n",
        "    with torch.no_grad():\n",
        "      embedding = bert_embedding(\n",
        "          tk_batch.view(-1,2**9), \n",
        "          token_type_ids= sg_batch.view(-1,2**9),\n",
        "          attention_mask=at_batch.view(-1,2**9))\n",
        "\n",
        "      embedded_tokens = embedding[0].view(batch_size,2**9*num_sentences,-1)\n",
        "\n",
        "      output = lstm_classifier.forward(embedded_tokens, seq_len)\n",
        "\n",
        "      optimizer.zero_grad()\n",
        "      loss = torch.mean(loss_coef*loss_func(output, label_batch))\n",
        "    \n",
        "\n",
        "    val_loss_list.append(float(loss.detach().cpu().data))\n",
        "    pred = np.argmax(output.detach().cpu().numpy(),axis=1).flatten()\n",
        "    acc = np.mean(pred == label_batch.detach().cpu().numpy().flatten())\n",
        "    val_acc_list.append(float(acc))\n",
        "\n",
        "    print(f'\\rVAL: [{e}/{epoch}] batch [{b}/{len(val_loader)}]\\\n",
        "       loss {val_loss_list[-1]}\\t acc {val_acc_list[-1]}', end='\\t')\n",
        "\n",
        "  if e%save_epoch == 0:\n",
        "    utils.save_checkpoint(e,lstm_classifier,save_path)"
      ],
      "execution_count": 12,
      "outputs": [
        {
          "output_type": "stream",
          "name": "stdout",
          "text": [
            "VAL: [23/24] batch [48/49]       loss 2.1489524951361796\t acc 0.3046875\t"
          ]
        }
      ]
    },
    {
      "cell_type": "code",
      "metadata": {
        "id": "rioAHKubt-aD",
        "colab": {
          "base_uri": "https://localhost:8080/",
          "height": 573
        },
        "outputId": "d0380f0a-10ec-417e-cc69-d2573db50d82"
      },
      "source": [
        "import matplotlib.pyplot as plt\n",
        "\n",
        "try:\n",
        "  tll = np.load('train_loss_list.npy')\n",
        "  vll = np.load('val_loss_list.npy')\n",
        "  tal = np.load('train_acc_list.npy')\n",
        "  val = np.load('val_acc_list.npy')\n",
        "\n",
        "  tll = tll.tolist() + train_loss_list\n",
        "  vll = vll.tolist() + val_loss_list\n",
        "  tal = tal.tolist() + train_acc_list\n",
        "  val = val.tolist() + val_acc_list\n",
        "except FileNotFoundError:\n",
        "  print('no savefile')\n",
        "  tll = train_loss_list\n",
        "  vll = val_loss_list\n",
        "  tal = train_acc_list\n",
        "  val = val_acc_list\n",
        "\n",
        "\n",
        "\n",
        "plt.title('Train validation Loss')\n",
        "plt.xlabel('iteration')\n",
        "plt.ylabel('loss')\n",
        "plt.plot(tll, label='train loss')\n",
        "plt.plot(vll, label='val loss')\n",
        "plt.legend()\n",
        "plt.show()\n",
        "\n",
        "\n",
        "plt.title('Train validation acc')\n",
        "plt.xlabel('iteration')\n",
        "plt.ylabel('accuracy')\n",
        "plt.plot(tal, label='train acc')\n",
        "plt.plot(val, label='val acc')\n",
        "plt.legend()\n",
        "plt.show()"
      ],
      "execution_count": 19,
      "outputs": [
        {
          "output_type": "display_data",
          "data": {
            "image/png": "[encoded data removed]",
            "text/plain": [
              "<Figure size 432x288 with 1 Axes>"
            ]
          },
          "metadata": {
            "needs_background": "light"
          }
        },
        {
          "output_type": "display_data",
          "data": {
            "image/png": "[encoded data removed]",
            "text/plain": [
              "<Figure size 432x288 with 1 Axes>"
            ]
          },
          "metadata": {
            "needs_background": "light"
          }
        }
      ]
    },
    {
      "cell_type": "code",
      "metadata": {
        "id": "mtIalDW5s3oo"
      },
      "source": [
        "np.save('train_loss_list.npy',tll)\n",
        "np.save('val_loss_list.npy',vll)\n",
        "np.save('train_acc_list.npy',tal)\n",
        "np.save('val_acc_list.npy',val)"
      ],
      "execution_count": 14,
      "outputs": []
    },
    {
      "cell_type": "code",
      "metadata": {
        "colab": {
          "base_uri": "https://localhost:8080/"
        },
        "id": "-C9aG8dzHS_j",
        "outputId": "a6e97001-b0e1-47cb-bf1c-f2b5d59fada0"
      },
      "source": [
        "# [차도인] [오후 9:37] https://drive.google.com/file/d/168qGvi5w4Wwgu5QTpPoLkZzoJNAgyc6b/view?usp=sharing\n",
        "!gdown --id 168qGvi5w4Wwgu5QTpPoLkZzoJNAgyc6b\n",
        "TESTFILENAME = 'preprocessed_test_data.csv'"
      ],
      "execution_count": 2,
      "outputs": [
        {
          "output_type": "stream",
          "name": "stdout",
          "text": [
            "Downloading...\n",
            "From: https://drive.google.com/uc?id=168qGvi5w4Wwgu5QTpPoLkZzoJNAgyc6b\n",
            "To: /content/preprocessed_test_data.csv\n",
            "\r  0% 0.00/9.63M [00:00<?, ?B/s]\r100% 9.63M/9.63M [00:00<00:00, 84.5MB/s]\n"
          ]
        }
      ]
    },
    {
      "cell_type": "code",
      "metadata": {
        "id": "P_qYEoX5HitC",
        "colab": {
          "base_uri": "https://localhost:8080/"
        },
        "outputId": "ee8f712a-a5eb-446a-a1e1-c1fc5ab2e23d"
      },
      "source": [
        "batch_size = 128\n",
        "\n",
        "test_dataset = pd.read_csv('./'+TESTFILENAME)\n",
        "print(test_dataset['Genre'].value_counts())\n",
        "print(len(test_dataset))\n",
        "\n",
        "# declare torch.utils.data.Dataset\n",
        "test_set = LyricsAndGenreDataset(test_dataset,tokenizer,num_sentences)\n",
        "\n",
        "# test data loader\n",
        "test_loader = DataLoader(test_set,batch_size=batch_size, shuffle=True, \n",
        "                          num_workers=0, drop_last=True)\n",
        "\n"
      ],
      "execution_count": 16,
      "outputs": [
        {
          "output_type": "stream",
          "name": "stdout",
          "text": [
            "Rock          1410\n",
            "Pop           1110\n",
            "Hip-Hop        960\n",
            "Country        810\n",
            "Metal          810\n",
            "Jazz           659\n",
            "Electronic     659\n",
            "Indie          510\n",
            "R&B            509\n",
            "Folk           495\n",
            "Name: Genre, dtype: int64\n",
            "7932\n"
          ]
        }
      ]
    },
    {
      "cell_type": "code",
      "metadata": {
        "colab": {
          "base_uri": "https://localhost:8080/"
        },
        "id": "k9AyQhYZIMUm",
        "outputId": "588d688c-4865-4237-99e1-a6353cf684f3"
      },
      "source": [
        "lstm_classifier.eval()\n",
        "c_mat = np.zeros((10,4)) # confusion matrix. TP, FP, FN, TN\n",
        "f1 = []\n",
        "with torch.no_grad():\n",
        "  for b, batch in enumerate(test_loader):\n",
        "    label_batch = batch[0].to(device)\n",
        "    tk_batch = batch[1].to(device)\n",
        "    sg_batch = batch[2].to(device)\n",
        "    at_batch = batch[3].to(device)\n",
        "\n",
        "    seq_len = np.sum(at_batch.detach().cpu().numpy(), axis=(1,2)) - 1\n",
        "    seq_len = torch.LongTensor(seq_len).to(device)\n",
        "\n",
        "    embedding = bert_embedding(\n",
        "        tk_batch.view(-1,2**9), \n",
        "        token_type_ids= sg_batch.view(-1,2**9),\n",
        "        attention_mask=at_batch.view(-1,2**9))\n",
        "\n",
        "    embedded_tokens = embedding[0].view(batch_size,2**9*num_sentences,-1)\n",
        "\n",
        "    output = lstm_classifier.forward(embedded_tokens, seq_len)\n",
        "\n",
        "    ###\n",
        "    o = output.detach().cpu().numpy()\n",
        "    # print(np.argmax(o,axis=1))\n",
        "    \n",
        "    pred = torch.argmax(output,axis=1)\n",
        "\n",
        "    acc = float(torch.sum(pred == label_batch))/batch_size\n",
        "    print(f'\\rbatch [{b}/{len(val_loader)}] acc: {acc}', end='\\t')\n",
        "\n",
        "    for i in range(10):\n",
        "      c_mat[i,0] += int(torch.sum((pred == i)*(label_batch == i)))\n",
        "      c_mat[i,1] += int(torch.sum((pred == i)*(label_batch != i)))\n",
        "      c_mat[i,2] += int(torch.sum((pred != i)*(label_batch == i)))\n",
        "      c_mat[i,3] += int(torch.sum((pred != i)*(label_batch != i)))\n",
        "\n",
        "\n",
        "print()\n",
        "\n",
        "precision = [c[0]/(c[0]+c[1]) if c[0] != 0 else 0 for c in c_mat]\n",
        "recall = [c[0]/(c[0]+c[2]) if c[0] != 0 else 0 for c in c_mat]\n",
        "\n",
        "f1 = [2*p*r/(p+r) if p*r != 0 else 0 for p, r in zip(precision,recall)]\n",
        "\n",
        "print('f1 score each class')\n",
        "print(f1)\n",
        "print('overall f1 score')\n",
        "print(np.mean(f1))\n"
      ],
      "execution_count": 17,
      "outputs": [
        {
          "output_type": "stream",
          "name": "stdout",
          "text": [
            "batch [60/49] acc: 0.3203125\t\n",
            "f1 score each class\n",
            "[0.20528301886792452, 0.30372057706909644, 0.1893491124260355, 0.3425022182786158, 0.18040435458786938, 0.2288135593220339, 0.273972602739726, 0.5538461538461539, 0.7742574257425742, 0.009783368273934313]\n",
            "overall f1 score\n",
            "0.30619323911539637\n"
          ]
        }
      ]
    },
    {
      "cell_type": "code",
      "metadata": {
        "colab": {
          "base_uri": "https://localhost:8080/"
        },
        "id": "YBsk_ZtdShfq",
        "outputId": "202719c8-0e5f-45db-b693-eef27533559b"
      },
      "source": [
        "print([genre_id2name[i] for i in range(10)])\n",
        "print(c_mat)\n"
      ],
      "execution_count": 18,
      "outputs": [
        {
          "output_type": "stream",
          "name": "stdout",
          "text": [
            "['Electronic', 'Country', 'R&B', 'Jazz', 'Indie', 'Pop', 'Folk', 'Metal', 'Hip-Hop', 'Rock']\n",
            "[[ 136.  538.  515. 6619.]\n",
            " [ 200.  321.  596. 6691.]\n",
            " [ 160. 1030.  340. 6278.]\n",
            " [ 193.  287.  454. 6874.]\n",
            " [ 116.  669.  385. 6638.]\n",
            " [ 216.  577.  879. 6136.]\n",
            " [ 190.  711.  296. 6611.]\n",
            " [ 594.  748.  209. 6257.]\n",
            " [ 782.  294.  162. 6570.]\n",
            " [   7.   39. 1378. 6384.]]\n"
          ]
        }
      ]
    },
    {
      "cell_type": "code",
      "metadata": {
        "colab": {
          "base_uri": "https://localhost:8080/"
        },
        "id": "yI248zqDRNtk",
        "outputId": "d610b512-fc5b-4b84-d1d6-47467fbe91de"
      },
      "source": [
        "test_dataset = pd.read_csv('./'+TESTFILENAME)\n",
        "\n",
        "print(test_dataset['Genre'].value_counts())\n",
        "P = [n/len(test_dataset) for n in test_dataset['Genre'].value_counts()]\n",
        "print(P)\n",
        "f1_score = {n:2*p*0.5/(0.5+p) for n, p in zip(test_dataset['Genre'].value_counts().index, P)}\n",
        "print(f1_score)\n",
        "print(sum(f1_score.values())/10)\n",
        "# print(np.mean(f1_score.values()))"
      ],
      "execution_count": 12,
      "outputs": [
        {
          "output_type": "stream",
          "name": "stdout",
          "text": [
            "Rock          1410\n",
            "Pop           1110\n",
            "Hip-Hop        960\n",
            "Metal          810\n",
            "Country        810\n",
            "Jazz           659\n",
            "Electronic     659\n",
            "Indie          510\n",
            "R&B            509\n",
            "Folk           495\n",
            "Name: Genre, dtype: int64\n",
            "[0.1777609682299546, 0.13993948562783662, 0.12102874432677761, 0.1021180030257186, 0.1021180030257186, 0.08308119011598589, 0.08308119011598589, 0.06429652042360061, 0.06417044881492688, 0.062405446293494704]\n",
            "{'Rock': 0.2622767857142857, 'Pop': 0.2186761229314421, 'Hip-Hop': 0.194884287454324, 'Metal': 0.16959798994974873, 'Country': 0.16959798994974873, 'Jazz': 0.14248648648648649, 'Electronic': 0.14248648648648649, 'Indie': 0.11394101876675605, 'R&B': 0.11374301675977655, 'Folk': 0.1109616677874916}\n",
            "0.16386518522865465\n"
          ]
        }
      ]
    }
  ]
}