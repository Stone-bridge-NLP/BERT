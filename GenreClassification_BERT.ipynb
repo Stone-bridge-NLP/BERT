{
  "nbformat": 4,
  "nbformat_minor": 0,
  "metadata": {
    "colab": {
      "name": "GenreClassification_BERT.ipynb",
      "provenance": [],
      "collapsed_sections": [],
      "machine_shape": "hm",
      "authorship_tag": "ABX9TyORqLAe+ALeOrJgsGOec1n7",
      "include_colab_link": true
    },
    "kernelspec": {
      "name": "python3",
      "display_name": "Python 3"
    },
    "language_info": {
      "name": "python"
    },
    "accelerator": "GPU"
  },
  "cells": [
    {
      "cell_type": "markdown",
      "metadata": {
        "id": "view-in-github",
        "colab_type": "text"
      },
      "source": [
        "<a href=\"https://colab.research.google.com/github/Stone-bridge-NLP/BERT/blob/main/GenreClassification_BERT.ipynb\" target=\"_parent\"><img src=\"https://colab.research.google.com/assets/colab-badge.svg\" alt=\"Open In Colab\"/></a>"
      ]
    },
    {
      "cell_type": "markdown",
      "metadata": {
        "id": "T96GzTbn1xs7"
      },
      "source": [
        "# Setting environment"
      ]
    },
    {
      "cell_type": "code",
      "metadata": {
        "id": "vePqUrupRO16",
        "colab": {
          "base_uri": "https://localhost:8080/"
        },
        "outputId": "b5655bff-e68c-409a-f9e9-888aac0b73e8"
      },
      "source": [
        "# required packages to use BERT via hub models\n",
        "%%bash\n",
        "pip install tqdm boto3 requests regex sentencepiece sacremoses"
      ],
      "execution_count": 1,
      "outputs": [
        {
          "output_type": "stream",
          "name": "stdout",
          "text": [
            "Requirement already satisfied: tqdm in /usr/local/lib/python3.7/dist-packages (4.62.3)\n",
            "Collecting boto3\n",
            "  Downloading boto3-1.20.10-py3-none-any.whl (131 kB)\n",
            "Requirement already satisfied: requests in /usr/local/lib/python3.7/dist-packages (2.23.0)\n",
            "Requirement already satisfied: regex in /usr/local/lib/python3.7/dist-packages (2019.12.20)\n",
            "Collecting sentencepiece\n",
            "  Downloading sentencepiece-0.1.96-cp37-cp37m-manylinux_2_17_x86_64.manylinux2014_x86_64.whl (1.2 MB)\n",
            "Collecting sacremoses\n",
            "  Downloading sacremoses-0.0.46-py3-none-any.whl (895 kB)\n",
            "Collecting jmespath<1.0.0,>=0.7.1\n",
            "  Downloading jmespath-0.10.0-py2.py3-none-any.whl (24 kB)\n",
            "Collecting s3transfer<0.6.0,>=0.5.0\n",
            "  Downloading s3transfer-0.5.0-py3-none-any.whl (79 kB)\n",
            "Collecting botocore<1.24.0,>=1.23.10\n",
            "  Downloading botocore-1.23.10-py3-none-any.whl (8.2 MB)\n",
            "Collecting urllib3<1.27,>=1.25.4\n",
            "  Downloading urllib3-1.26.7-py2.py3-none-any.whl (138 kB)\n",
            "Requirement already satisfied: python-dateutil<3.0.0,>=2.1 in /usr/local/lib/python3.7/dist-packages (from botocore<1.24.0,>=1.23.10->boto3) (2.8.2)\n",
            "Requirement already satisfied: six>=1.5 in /usr/local/lib/python3.7/dist-packages (from python-dateutil<3.0.0,>=2.1->botocore<1.24.0,>=1.23.10->boto3) (1.15.0)\n",
            "Requirement already satisfied: certifi>=2017.4.17 in /usr/local/lib/python3.7/dist-packages (from requests) (2021.10.8)\n",
            "Requirement already satisfied: idna<3,>=2.5 in /usr/local/lib/python3.7/dist-packages (from requests) (2.10)\n",
            "Requirement already satisfied: chardet<4,>=3.0.2 in /usr/local/lib/python3.7/dist-packages (from requests) (3.0.4)\n",
            "  Downloading urllib3-1.25.11-py2.py3-none-any.whl (127 kB)\n",
            "Requirement already satisfied: joblib in /usr/local/lib/python3.7/dist-packages (from sacremoses) (1.1.0)\n",
            "Requirement already satisfied: click in /usr/local/lib/python3.7/dist-packages (from sacremoses) (7.1.2)\n",
            "Installing collected packages: urllib3, jmespath, botocore, s3transfer, sentencepiece, sacremoses, boto3\n",
            "  Attempting uninstall: urllib3\n",
            "    Found existing installation: urllib3 1.24.3\n",
            "    Uninstalling urllib3-1.24.3:\n",
            "      Successfully uninstalled urllib3-1.24.3\n",
            "Successfully installed boto3-1.20.10 botocore-1.23.10 jmespath-0.10.0 s3transfer-0.5.0 sacremoses-0.0.46 sentencepiece-0.1.96 urllib3-1.25.11\n"
          ]
        },
        {
          "output_type": "stream",
          "name": "stderr",
          "text": [
            "ERROR: pip's dependency resolver does not currently take into account all the packages that are installed. This behaviour is the source of the following dependency conflicts.\n",
            "datascience 0.10.6 requires folium==0.2.1, but you have folium 0.8.3 which is incompatible.\n"
          ]
        }
      ]
    },
    {
      "cell_type": "code",
      "metadata": {
        "id": "egzjO2iBRmft",
        "colab": {
          "base_uri": "https://localhost:8080/"
        },
        "outputId": "312210a2-f8a3-4be7-ce0e-df2a339914e9"
      },
      "source": [
        "# additional packages required (to avoid error, not mentioned in the tutorial)\n",
        "!pip install huggingface_hub\n",
        "!pip install tokenizers"
      ],
      "execution_count": 2,
      "outputs": [
        {
          "output_type": "stream",
          "name": "stdout",
          "text": [
            "Collecting huggingface_hub\n",
            "  Downloading huggingface_hub-0.1.2-py3-none-any.whl (59 kB)\n",
            "\u001b[?25l\r\u001b[K     |█████▌                          | 10 kB 43.5 MB/s eta 0:00:01\r\u001b[K     |███████████                     | 20 kB 8.3 MB/s eta 0:00:01\r\u001b[K     |████████████████▌               | 30 kB 7.6 MB/s eta 0:00:01\r\u001b[K     |██████████████████████          | 40 kB 7.3 MB/s eta 0:00:01\r\u001b[K     |███████████████████████████▌    | 51 kB 4.0 MB/s eta 0:00:01\r\u001b[K     |████████████████████████████████| 59 kB 2.9 MB/s \n",
            "\u001b[?25hRequirement already satisfied: typing-extensions>=3.7.4.3 in /usr/local/lib/python3.7/dist-packages (from huggingface_hub) (3.10.0.2)\n",
            "Requirement already satisfied: requests in /usr/local/lib/python3.7/dist-packages (from huggingface_hub) (2.23.0)\n",
            "Requirement already satisfied: filelock in /usr/local/lib/python3.7/dist-packages (from huggingface_hub) (3.4.0)\n",
            "Requirement already satisfied: tqdm in /usr/local/lib/python3.7/dist-packages (from huggingface_hub) (4.62.3)\n",
            "Requirement already satisfied: pyyaml in /usr/local/lib/python3.7/dist-packages (from huggingface_hub) (3.13)\n",
            "Requirement already satisfied: packaging>=20.9 in /usr/local/lib/python3.7/dist-packages (from huggingface_hub) (21.3)\n",
            "Requirement already satisfied: importlib-metadata in /usr/local/lib/python3.7/dist-packages (from huggingface_hub) (4.8.2)\n",
            "Requirement already satisfied: pyparsing!=3.0.5,>=2.0.2 in /usr/local/lib/python3.7/dist-packages (from packaging>=20.9->huggingface_hub) (3.0.6)\n",
            "Requirement already satisfied: zipp>=0.5 in /usr/local/lib/python3.7/dist-packages (from importlib-metadata->huggingface_hub) (3.6.0)\n",
            "Requirement already satisfied: chardet<4,>=3.0.2 in /usr/local/lib/python3.7/dist-packages (from requests->huggingface_hub) (3.0.4)\n",
            "Requirement already satisfied: urllib3!=1.25.0,!=1.25.1,<1.26,>=1.21.1 in /usr/local/lib/python3.7/dist-packages (from requests->huggingface_hub) (1.25.11)\n",
            "Requirement already satisfied: idna<3,>=2.5 in /usr/local/lib/python3.7/dist-packages (from requests->huggingface_hub) (2.10)\n",
            "Requirement already satisfied: certifi>=2017.4.17 in /usr/local/lib/python3.7/dist-packages (from requests->huggingface_hub) (2021.10.8)\n",
            "Installing collected packages: huggingface-hub\n",
            "Successfully installed huggingface-hub-0.1.2\n",
            "Collecting tokenizers\n",
            "  Downloading tokenizers-0.10.3-cp37-cp37m-manylinux_2_5_x86_64.manylinux1_x86_64.manylinux_2_12_x86_64.manylinux2010_x86_64.whl (3.3 MB)\n",
            "\u001b[K     |████████████████████████████████| 3.3 MB 4.2 MB/s \n",
            "\u001b[?25hInstalling collected packages: tokenizers\n",
            "Successfully installed tokenizers-0.10.3\n"
          ]
        }
      ]
    },
    {
      "cell_type": "code",
      "metadata": {
        "colab": {
          "base_uri": "https://localhost:8080/"
        },
        "id": "ggj4meohZ_SO",
        "outputId": "9169739e-42d4-41ff-be79-8a39bc22244b"
      },
      "source": [
        "# download shared dataset to local disk\n",
        "!gdown --id 1TGpLOsptZ2hv0GFfK5cqzO33xJAYT2si"
      ],
      "execution_count": 3,
      "outputs": [
        {
          "output_type": "stream",
          "name": "stdout",
          "text": [
            "Downloading...\n",
            "From: https://drive.google.com/uc?id=1TGpLOsptZ2hv0GFfK5cqzO33xJAYT2si\n",
            "To: /content/train_filtered.csv\n",
            "100% 318M/318M [00:01<00:00, 251MB/s]\n"
          ]
        }
      ]
    },
    {
      "cell_type": "markdown",
      "metadata": {
        "id": "biD7Q15Q2BIx"
      },
      "source": [
        "# Train model"
      ]
    },
    {
      "cell_type": "code",
      "metadata": {
        "id": "4RkJ0OFQR2mx"
      },
      "source": [
        "import pandas as pd\n",
        "import numpy as np\n",
        "import random\n",
        "import torch\n",
        "import torch.nn as nn\n",
        "import torch.optim as optim\n",
        "from torch.utils.data import Dataset\n",
        "from torch.utils.data import DataLoader"
      ],
      "execution_count": 4,
      "outputs": []
    },
    {
      "cell_type": "code",
      "metadata": {
        "id": "UK3M4EJrdWMS",
        "colab": {
          "base_uri": "https://localhost:8080/"
        },
        "outputId": "4476e1ad-3104-41e1-c5a4-dfe879de2793"
      },
      "source": [
        "train_dataset = pd.read_csv('/content/train_filtered.csv')\n",
        "print(train_dataset)"
      ],
      "execution_count": 5,
      "outputs": [
        {
          "output_type": "stream",
          "name": "stdout",
          "text": [
            "                  Artist  ...                                             Lyrics\n",
            "0              12 stones  ...  It starts with pain, followed by hate\\nFueled ...\n",
            "1              12 stones  ...  Freedom!\\nAlone again again alone\\nPatiently w...\n",
            "2              12 stones  ...  Biting the hand that feeds you, lying to the v...\n",
            "3              12 stones  ...  You say you know just who I am\\nBut you can't ...\n",
            "4              12 stones  ...  My heart is beating faster can't control these...\n",
            "...                  ...  ...                                                ...\n",
            "249943      bobby womack  ...  I'm the best friend he's got I'd give him the ...\n",
            "249944     bad boys blue  ...  Bad Boys Blue \"I Totally Miss You\" I did you w...\n",
            "249945       celine dion  ...  Forgive me for the things That I never said to...\n",
            "249946          dan bern  ...  The day they found a cure for AIDS The day the...\n",
            "249947  crawdad republic  ...  Fourth of July has come, it's custom that we g...\n",
            "\n",
            "[249948 rows x 5 columns]\n"
          ]
        }
      ]
    },
    {
      "cell_type": "code",
      "metadata": {
        "id": "X4-DKI1PCpBH",
        "colab": {
          "base_uri": "https://localhost:8080/"
        },
        "outputId": "aac81474-499c-459f-ee38-f428bf1d0dc7"
      },
      "source": [
        "genre_id2name = ['Electronic', 'Country', 'R&B', 'Jazz', 'Indie', 'Pop', 'Folk', 'Metal', 'Hip-Hop', 'Rock']\n",
        "portion = len(train_dataset)//(10*1) # 10 classes, 1/1th of dataset\n",
        "equal_td = []\n",
        "train_dataset = train_dataset[['Genre', 'Lyrics']]\n",
        "for genre in genre_id2name:\n",
        "  td = train_dataset[train_dataset['Genre'] == genre]\n",
        "  equal_td.append(td.sample(n=portion,replace=True))\n",
        "  print(f'{genre}\\t sample ratio\\t {len(td)}:{portion}')\n",
        "  \n",
        "td = pd.concat(equal_td).reset_index().drop(columns=['index'])"
      ],
      "execution_count": 6,
      "outputs": [
        {
          "output_type": "stream",
          "name": "stdout",
          "text": [
            "Electronic\t sample ratio\t 2002:24\n",
            "Country\t sample ratio\t 1890:24\n",
            "R&B\t sample ratio\t 2763:24\n",
            "Jazz\t sample ratio\t 13314:24\n",
            "Indie\t sample ratio\t 7240:24\n",
            "Pop\t sample ratio\t 86219:24\n",
            "Folk\t sample ratio\t 8165:24\n",
            "Metal\t sample ratio\t 19098:24\n",
            "Hip-Hop\t sample ratio\t 2238:24\n",
            "Rock\t sample ratio\t 107019:24\n"
          ]
        }
      ]
    },
    {
      "cell_type": "code",
      "metadata": {
        "id": "hFmibSO3Li9e"
      },
      "source": [
        "class LyricsAndGenreDataset(Dataset):\n",
        "  def __init__(self, dataframe, tokenizer, num_sentence):\n",
        "    self.df = dataframe\n",
        "    self.tk = tokenizer\n",
        "    self.num_sentence = num_sentence\n",
        "    self.genre_name2id = {\n",
        "        'Electronic':0, \n",
        "        'Country':1, \n",
        "        'R&B':2, \n",
        "        'Jazz':3, \n",
        "        'Indie':4, \n",
        "        'Pop':5, \n",
        "        'Folk':6, \n",
        "        'Metal':7, \n",
        "        'Hip-Hop':8, \n",
        "        'Rock':9}\n",
        "\n",
        "  def __len__(self):\n",
        "    return len(self.df)\n",
        "  \n",
        "  def __getitem__(self, idx):\n",
        "    if torch.is_tensor(idx):\n",
        "      idx = idx.tolist()\n",
        "\n",
        "    genre = self.genre_name2id[self.df['Genre'][idx]]\n",
        "    lyric = [self.df['Lyrics'][idx]]\n",
        "\n",
        "    with torch.no_grad():\n",
        "      indexed_tokens = self.tk.batch_encode_plus(\n",
        "            lyric, add_special_tokens=True, padding= 'max_length', \n",
        "            max_length=2**9*self.num_sentence, truncation=True)\n",
        "      \n",
        "      tk_tensor = torch.tensor(indexed_tokens['input_ids']).view(-1,2**9)\n",
        "      sg_tensor = torch.tensor(indexed_tokens['token_type_ids']).view(-1,2**9)\n",
        "\n",
        "    return genre, tk_tensor, sg_tensor\n",
        "\n"
      ],
      "execution_count": 7,
      "outputs": []
    },
    {
      "cell_type": "code",
      "metadata": {
        "id": "ScQvSyL_5DKa"
      },
      "source": [
        "class myLSTM(nn.Module):\n",
        "  def __init__(self, input_size, hidden_size,num_layers,dropout, batch_first):\n",
        "    super(myLSTM, self).__init__()\n",
        "\n",
        "    self.layer = nn.LSTM(\n",
        "                    input_size=input_size,\n",
        "                    hidden_size=hidden_size,\n",
        "                    num_layers=num_layers,\n",
        "                    dropout=dropout,\n",
        "                    batch_first=batch_first)\n",
        "    \n",
        "  def forward(self, x, hidden):\n",
        "    # _, hidden = x\n",
        "    output, _ = self.layer(x, hidden)\n",
        "    return output, hidden"
      ],
      "execution_count": 8,
      "outputs": []
    },
    {
      "cell_type": "code",
      "metadata": {
        "id": "2CRm3ZSysDXL"
      },
      "source": [
        "class TextLSTM(nn.Module):\n",
        "  def __init__(self, input_size, hidden_size, num_layers, n_class, dropout):\n",
        "    super(TextLSTM, self).__init__()\n",
        "\n",
        "    # dim = np.linspace(input_size, hidden_size,num_layers+1).astype(np.int32)\n",
        "    # lstm_stack = []\n",
        "    # for i in range(len(dim)-1):\n",
        "    #   lstm_stack.append(\n",
        "    #       nn.LSTM(\n",
        "    #           input_size=dim[i],\n",
        "    #           hidden_size=dim[i+1],\n",
        "    #           num_layers=1,\n",
        "    #           dropout=dropout,\n",
        "    #           batch_first=True)\n",
        "    #   )\n",
        "    \n",
        "    # self.lstm = nn.Sequential(*lstm_stack)\n",
        "    \n",
        "    self.lstm = nn.LSTM(\n",
        "              input_size=input_size,\n",
        "              hidden_size=hidden_size,\n",
        "              num_layers=num_layers,\n",
        "              dropout=dropout,\n",
        "              batch_first=True)\n",
        "\n",
        "    self.dense = nn.Sequential(\n",
        "        nn.ReLU(),\n",
        "        nn.Linear(hidden_size, n_class),\n",
        "        nn.Softmax(dim=1))\n",
        "\n",
        "  def forward(self, hidden_and_cell, X):\n",
        "    X = X.transpose(0, 1)\n",
        "    #print(X.shape)\n",
        "    outputs, hidden = self.lstm(X, hidden_and_cell)\n",
        "    outputs = outputs[-1]  # 최종 예측 Hidden Layer\n",
        "    return self.dense(outputs)"
      ],
      "execution_count": 9,
      "outputs": []
    },
    {
      "cell_type": "code",
      "metadata": {
        "id": "BzydjUUw-8cv"
      },
      "source": [
        "#### hyperparameters ####\n",
        "epoch = 2\n",
        "lr = 0.0001\n",
        "batch_size = 4\n",
        "num_sentences = 2 # one sentence has 512 tokens\n",
        "hidden_size = 128\n",
        "num_layers = 4\n",
        "dropout = 0\n",
        "\n",
        "# fixed\n",
        "v_dim = 768\n",
        "n_genre = 10\n",
        "genre_id2name = ['Electronic', 'Country', 'R&B', 'Jazz', 'Indie', 'Pop', 'Folk', 'Metal', 'Hip-Hop', 'Rock']\n",
        "genre_name2id = {'Electronic':0, 'Country':1, 'R&B':2, 'Jazz':3, 'Indie':4, 'Pop':5, 'Folk':6, 'Metal':7, 'Hip-Hop':8, 'Rock':9}\n",
        "device = torch.device('cuda') if (torch.cuda.is_available())else torch.device('cpu')"
      ],
      "execution_count": 10,
      "outputs": []
    },
    {
      "cell_type": "code",
      "metadata": {
        "colab": {
          "base_uri": "https://localhost:8080/"
        },
        "id": "bKQ4Hitqbsn5",
        "outputId": "b4beb21d-2356-433c-8742-222a532342ce"
      },
      "source": [
        "tokenizer = torch.hub.load('huggingface/pytorch-transformers', 'tokenizer', 'bert-base-cased')\n",
        "bert_embedding = torch.hub.load('huggingface/pytorch-transformers', 'model', 'bert-base-cased').to(device)\n",
        "\n",
        "dset = LyricsAndGenreDataset(td,tokenizer,num_sentences)\n",
        "split_size = [\n",
        "              int(0.7*0.8*len(dset)),\n",
        "              int(0.7*0.2*len(dset)),\n",
        "              len(dset)-int(0.7*0.8*len(dset))-int(0.7*0.2*len(dset))]\n",
        "train_set, val_set, test_set = torch.utils.data.random_split(dset,split_size)\n",
        "\n",
        "train_loader = DataLoader(train_set,batch_size=batch_size, shuffle=True, \n",
        "                          num_workers=0, drop_last=True)\n",
        "val_loader = DataLoader(val_set,batch_size=batch_size, shuffle=True, \n",
        "                          num_workers=0, drop_last=True)\n",
        "test_loader = DataLoader(test_set,batch_size=batch_size, shuffle=True, \n",
        "                          num_workers=0, drop_last=True)\n",
        "\n",
        "lstm_classifier = TextLSTM(v_dim, hidden_size, num_layers, n_genre, dropout).to(device)\n",
        "loss_func = nn.CrossEntropyLoss()\n",
        "params = list(lstm_classifier.parameters())\n",
        "optimizer = optim.Adam(params, lr=lr)"
      ],
      "execution_count": 15,
      "outputs": [
        {
          "output_type": "stream",
          "name": "stderr",
          "text": [
            "Using cache found in /root/.cache/torch/hub/huggingface_pytorch-transformers_master\n",
            "Using cache found in /root/.cache/torch/hub/huggingface_pytorch-transformers_master\n",
            "Some weights of the model checkpoint at bert-base-cased were not used when initializing BertModel: ['cls.predictions.transform.dense.weight', 'cls.seq_relationship.weight', 'cls.predictions.decoder.weight', 'cls.seq_relationship.bias', 'cls.predictions.transform.LayerNorm.bias', 'cls.predictions.transform.dense.bias', 'cls.predictions.transform.LayerNorm.weight', 'cls.predictions.bias']\n",
            "- This IS expected if you are initializing BertModel from the checkpoint of a model trained on another task or with another architecture (e.g. initializing a BertForSequenceClassification model from a BertForPreTraining model).\n",
            "- This IS NOT expected if you are initializing BertModel from the checkpoint of a model that you expect to be exactly identical (initializing a BertForSequenceClassification model from a BertForSequenceClassification model).\n"
          ]
        }
      ]
    },
    {
      "cell_type": "code",
      "metadata": {
        "colab": {
          "base_uri": "https://localhost:8080/"
        },
        "id": "Fy50XfKoQ6dj",
        "outputId": "47f18e47-1b84-40cb-d596-ed409d3552f4"
      },
      "source": [
        "train_loss_list = []\n",
        "val_loss_list = []\n",
        "\n",
        "for e in range(epoch):\n",
        "  for b,batch in enumerate(train_loader):\n",
        "    label_batch = batch[0].to(device)\n",
        "    tk_batch = batch[1].to(device)\n",
        "    sg_batch = batch[2].to(device)\n",
        "\n",
        "    with torch.no_grad():\n",
        "      embedding = bert_embedding(tk_batch.view(-1,2**9), token_type_ids= sg_batch.view(-1,2**9))\n",
        "\n",
        "    embedded_tokens = embedding[0].view(batch_size,2**9*num_sentences,-1)\n",
        "\n",
        "    hidden = torch.zeros(\n",
        "          num_layers,embedded_tokens.shape[1],hidden_size, requires_grad=True,device=device)\n",
        "    cell = torch.zeros(\n",
        "          num_layers,embedded_tokens.shape[1],hidden_size, requires_grad=True,device=device)\n",
        "    output = lstm_classifier.forward((hidden, cell), embedded_tokens)\n",
        "    optimizer.zero_grad()\n",
        "    loss = loss_func(output, label_batch)\n",
        "    loss.backward()\n",
        "    optimizer.step()\n",
        "    \n",
        "    if b%4 == 0:\n",
        "      print(f'\\rTRAIN: epoch {e} batch {b} loss {loss.data}', end='\\t')\n",
        "      train_loss_list.append(float(loss.detach().cpu().data))\n",
        "\n",
        "\n",
        "  for b,batch in enumerate(val_loader):\n",
        "    label_batch = batch[0].to(device)\n",
        "    tk_batch = batch[1].to(device)\n",
        "    sg_batch = batch[2].to(device)\n",
        "\n",
        "    with torch.no_grad():\n",
        "      embedding = bert_embedding(tk_batch.view(-1,2**9), token_type_ids= sg_batch.view(-1,2**9))\n",
        "\n",
        "    embedded_tokens = embedding[0].view(batch_size,2**9*num_sentences,-1)\n",
        "\n",
        "    hidden = torch.zeros(\n",
        "          num_layers,embedded_tokens.shape[1],hidden_size, requires_grad=True,device=device)\n",
        "    cell = torch.zeros(\n",
        "          num_layers,embedded_tokens.shape[1],hidden_size, requires_grad=True,device=device)\n",
        "    output = lstm_classifier.forward((hidden, cell), embedded_tokens)\n",
        "    optimizer.zero_grad()\n",
        "    loss = loss_func(output, label_batch)\n",
        "    loss.backward()\n",
        "    optimizer.step()\n",
        "    \n",
        "    print(f'\\rVAL: epoch {e} batch {b} loss {loss.data}', end='\\t')\n",
        "    val_loss_list.append(float(loss.detach().cpu().data))"
      ],
      "execution_count": 16,
      "outputs": [
        {
          "output_type": "stream",
          "name": "stdout",
          "text": [
            "VAL: epoch 1 batch 7 loss 2.3024635314941406\t"
          ]
        }
      ]
    },
    {
      "cell_type": "code",
      "metadata": {
        "colab": {
          "base_uri": "https://localhost:8080/",
          "height": 499
        },
        "id": "rioAHKubt-aD",
        "outputId": "19e526b7-ba7c-4151-bd3c-06b138be5406"
      },
      "source": [
        "import matplotlib.pyplot as plt\n",
        "\n",
        "plt.figure(figsize=(8,8))\n",
        "plt.title('Train validation Loss')\n",
        "plt.plot(train_loss_list, label='train loss')\n",
        "plt.plot(val_loss_list, label='val loss')\n",
        "plt.legend()\n",
        "plt.show()"
      ],
      "execution_count": 17,
      "outputs": [
        {
          "output_type": "display_data",
          "data": {
            "image/png": "[encoded data removed]",
            "text/plain": [
              "<Figure size 576x576 with 1 Axes>"
            ]
          },
          "metadata": {
            "needs_background": "light"
          }
        }
      ]
    }
  ]
}