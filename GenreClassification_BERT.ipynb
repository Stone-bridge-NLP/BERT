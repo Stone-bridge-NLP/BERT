{
  "nbformat": 4,
  "nbformat_minor": 0,
  "metadata": {
    "colab": {
      "name": "GenreClassification_BERT.ipynb",
      "provenance": [],
      "collapsed_sections": [],
      "machine_shape": "hm",
      "authorship_tag": "ABX9TyOyGTuOsFE5ZrHLdf+b5Pbf",
      "include_colab_link": true
    },
    "kernelspec": {
      "name": "python3",
      "display_name": "Python 3"
    },
    "language_info": {
      "name": "python"
    },
    "accelerator": "GPU"
  },
  "cells": [
    {
      "cell_type": "markdown",
      "metadata": {
        "id": "view-in-github",
        "colab_type": "text"
      },
      "source": [
        "<a href=\"https://colab.research.google.com/github/Stone-bridge-NLP/BERT/blob/main/GenreClassification_BERT.ipynb\" target=\"_parent\"><img src=\"https://colab.research.google.com/assets/colab-badge.svg\" alt=\"Open In Colab\"/></a>"
      ]
    },
    {
      "cell_type": "markdown",
      "metadata": {
        "id": "T96GzTbn1xs7"
      },
      "source": [
        "# Setting environment"
      ]
    },
    {
      "cell_type": "code",
      "metadata": {
        "id": "vePqUrupRO16",
        "colab": {
          "base_uri": "https://localhost:8080/"
        },
        "outputId": "64118cc7-5c09-4662-89af-c144ef5ca7a4"
      },
      "source": [
        "# required packages to use BERT via hub models\n",
        "%%bash\n",
        "pip install tqdm boto3 requests regex sentencepiece sacremoses"
      ],
      "execution_count": 1,
      "outputs": [
        {
          "output_type": "stream",
          "name": "stdout",
          "text": [
            "Requirement already satisfied: tqdm in /usr/local/lib/python3.7/dist-packages (4.62.3)\n",
            "Collecting boto3\n",
            "  Downloading boto3-1.20.11-py3-none-any.whl (131 kB)\n",
            "Requirement already satisfied: requests in /usr/local/lib/python3.7/dist-packages (2.23.0)\n",
            "Requirement already satisfied: regex in /usr/local/lib/python3.7/dist-packages (2019.12.20)\n",
            "Collecting sentencepiece\n",
            "  Downloading sentencepiece-0.1.96-cp37-cp37m-manylinux_2_17_x86_64.manylinux2014_x86_64.whl (1.2 MB)\n",
            "Collecting sacremoses\n",
            "  Downloading sacremoses-0.0.46-py3-none-any.whl (895 kB)\n",
            "Collecting s3transfer<0.6.0,>=0.5.0\n",
            "  Downloading s3transfer-0.5.0-py3-none-any.whl (79 kB)\n",
            "Collecting jmespath<1.0.0,>=0.7.1\n",
            "  Downloading jmespath-0.10.0-py2.py3-none-any.whl (24 kB)\n",
            "Collecting botocore<1.24.0,>=1.23.11\n",
            "  Downloading botocore-1.23.11-py3-none-any.whl (8.2 MB)\n",
            "Requirement already satisfied: python-dateutil<3.0.0,>=2.1 in /usr/local/lib/python3.7/dist-packages (from botocore<1.24.0,>=1.23.11->boto3) (2.8.2)\n",
            "Collecting urllib3<1.27,>=1.25.4\n",
            "  Downloading urllib3-1.26.7-py2.py3-none-any.whl (138 kB)\n",
            "Requirement already satisfied: six>=1.5 in /usr/local/lib/python3.7/dist-packages (from python-dateutil<3.0.0,>=2.1->botocore<1.24.0,>=1.23.11->boto3) (1.15.0)\n",
            "  Downloading urllib3-1.25.11-py2.py3-none-any.whl (127 kB)\n",
            "Requirement already satisfied: certifi>=2017.4.17 in /usr/local/lib/python3.7/dist-packages (from requests) (2021.10.8)\n",
            "Requirement already satisfied: idna<3,>=2.5 in /usr/local/lib/python3.7/dist-packages (from requests) (2.10)\n",
            "Requirement already satisfied: chardet<4,>=3.0.2 in /usr/local/lib/python3.7/dist-packages (from requests) (3.0.4)\n",
            "Requirement already satisfied: click in /usr/local/lib/python3.7/dist-packages (from sacremoses) (7.1.2)\n",
            "Requirement already satisfied: joblib in /usr/local/lib/python3.7/dist-packages (from sacremoses) (1.1.0)\n",
            "Installing collected packages: urllib3, jmespath, botocore, s3transfer, sentencepiece, sacremoses, boto3\n",
            "  Attempting uninstall: urllib3\n",
            "    Found existing installation: urllib3 1.24.3\n",
            "    Uninstalling urllib3-1.24.3:\n",
            "      Successfully uninstalled urllib3-1.24.3\n",
            "Successfully installed boto3-1.20.11 botocore-1.23.11 jmespath-0.10.0 s3transfer-0.5.0 sacremoses-0.0.46 sentencepiece-0.1.96 urllib3-1.25.11\n"
          ]
        },
        {
          "output_type": "stream",
          "name": "stderr",
          "text": [
            "ERROR: pip's dependency resolver does not currently take into account all the packages that are installed. This behaviour is the source of the following dependency conflicts.\n",
            "datascience 0.10.6 requires folium==0.2.1, but you have folium 0.8.3 which is incompatible.\n"
          ]
        }
      ]
    },
    {
      "cell_type": "code",
      "metadata": {
        "id": "egzjO2iBRmft",
        "colab": {
          "base_uri": "https://localhost:8080/"
        },
        "outputId": "ddfb9cc3-cc58-4c86-ac81-c993c1af703c"
      },
      "source": [
        "# additional packages required (to avoid error, not mentioned in the tutorial)\n",
        "!pip install huggingface_hub\n",
        "!pip install tokenizers"
      ],
      "execution_count": 2,
      "outputs": [
        {
          "output_type": "stream",
          "name": "stdout",
          "text": [
            "Collecting huggingface_hub\n",
            "  Downloading huggingface_hub-0.1.2-py3-none-any.whl (59 kB)\n",
            "\u001b[?25l\r\u001b[K     |█████▌                          | 10 kB 23.1 MB/s eta 0:00:01\r\u001b[K     |███████████                     | 20 kB 27.1 MB/s eta 0:00:01\r\u001b[K     |████████████████▌               | 30 kB 11.7 MB/s eta 0:00:01\r\u001b[K     |██████████████████████          | 40 kB 8.9 MB/s eta 0:00:01\r\u001b[K     |███████████████████████████▌    | 51 kB 5.1 MB/s eta 0:00:01\r\u001b[K     |████████████████████████████████| 59 kB 3.0 MB/s \n",
            "\u001b[?25hRequirement already satisfied: packaging>=20.9 in /usr/local/lib/python3.7/dist-packages (from huggingface_hub) (21.3)\n",
            "Requirement already satisfied: tqdm in /usr/local/lib/python3.7/dist-packages (from huggingface_hub) (4.62.3)\n",
            "Requirement already satisfied: importlib-metadata in /usr/local/lib/python3.7/dist-packages (from huggingface_hub) (4.8.2)\n",
            "Requirement already satisfied: pyyaml in /usr/local/lib/python3.7/dist-packages (from huggingface_hub) (3.13)\n",
            "Requirement already satisfied: typing-extensions>=3.7.4.3 in /usr/local/lib/python3.7/dist-packages (from huggingface_hub) (3.10.0.2)\n",
            "Requirement already satisfied: requests in /usr/local/lib/python3.7/dist-packages (from huggingface_hub) (2.23.0)\n",
            "Requirement already satisfied: filelock in /usr/local/lib/python3.7/dist-packages (from huggingface_hub) (3.4.0)\n",
            "Requirement already satisfied: pyparsing!=3.0.5,>=2.0.2 in /usr/local/lib/python3.7/dist-packages (from packaging>=20.9->huggingface_hub) (3.0.6)\n",
            "Requirement already satisfied: zipp>=0.5 in /usr/local/lib/python3.7/dist-packages (from importlib-metadata->huggingface_hub) (3.6.0)\n",
            "Requirement already satisfied: idna<3,>=2.5 in /usr/local/lib/python3.7/dist-packages (from requests->huggingface_hub) (2.10)\n",
            "Requirement already satisfied: chardet<4,>=3.0.2 in /usr/local/lib/python3.7/dist-packages (from requests->huggingface_hub) (3.0.4)\n",
            "Requirement already satisfied: urllib3!=1.25.0,!=1.25.1,<1.26,>=1.21.1 in /usr/local/lib/python3.7/dist-packages (from requests->huggingface_hub) (1.25.11)\n",
            "Requirement already satisfied: certifi>=2017.4.17 in /usr/local/lib/python3.7/dist-packages (from requests->huggingface_hub) (2021.10.8)\n",
            "Installing collected packages: huggingface-hub\n",
            "Successfully installed huggingface-hub-0.1.2\n",
            "Collecting tokenizers\n",
            "  Downloading tokenizers-0.10.3-cp37-cp37m-manylinux_2_5_x86_64.manylinux1_x86_64.manylinux_2_12_x86_64.manylinux2010_x86_64.whl (3.3 MB)\n",
            "\u001b[K     |████████████████████████████████| 3.3 MB 5.2 MB/s \n",
            "\u001b[?25hInstalling collected packages: tokenizers\n",
            "Successfully installed tokenizers-0.10.3\n"
          ]
        }
      ]
    },
    {
      "cell_type": "code",
      "metadata": {
        "colab": {
          "base_uri": "https://localhost:8080/"
        },
        "id": "ggj4meohZ_SO",
        "outputId": "594d74b8-9b43-4f61-9c71-d01fbda9cede"
      },
      "source": [
        "# download shared dataset to local disk\n",
        "# [차도인] [오후 9:37] https://drive.google.com/file/d/168nKQ3EsCGfUxNNNJMYBBoWWyEmivtE-/view?usp=sharing\n",
        "!gdown --id 168nKQ3EsCGfUxNNNJMYBBoWWyEmivtE-\n",
        "FILENAME = 'preprocessed_train_data.csv'"
      ],
      "execution_count": 3,
      "outputs": [
        {
          "output_type": "stream",
          "name": "stdout",
          "text": [
            "Downloading...\n",
            "From: https://drive.google.com/uc?id=168nKQ3EsCGfUxNNNJMYBBoWWyEmivtE-\n",
            "To: /content/preprocessed_train_data.csv\n",
            "100% 302M/302M [00:01<00:00, 192MB/s]\n"
          ]
        }
      ]
    },
    {
      "cell_type": "markdown",
      "metadata": {
        "id": "biD7Q15Q2BIx"
      },
      "source": [
        "# Train model"
      ]
    },
    {
      "cell_type": "code",
      "metadata": {
        "id": "4RkJ0OFQR2mx"
      },
      "source": [
        "import pandas as pd\n",
        "import numpy as np\n",
        "import random\n",
        "import torch\n",
        "import torch.nn as nn\n",
        "import torch.optim as optim\n",
        "from torch.utils.data import Dataset\n",
        "from torch.utils.data import DataLoader"
      ],
      "execution_count": 4,
      "outputs": []
    },
    {
      "cell_type": "code",
      "metadata": {
        "id": "UK3M4EJrdWMS",
        "colab": {
          "base_uri": "https://localhost:8080/"
        },
        "outputId": "c424e97e-4b3d-49f7-efa6-b26cd357a783"
      },
      "source": [
        "train_dataset = pd.read_csv('/content/'+FILENAME)\n",
        "print(train_dataset)"
      ],
      "execution_count": 5,
      "outputs": [
        {
          "output_type": "stream",
          "name": "stdout",
          "text": [
            "        Genre                                             Lyrics\n",
            "0        Rock  it starts with pain followed by hate fueled by...\n",
            "1        Rock  freedom alone again again alone patiently wait...\n",
            "2        Rock  biting the hand that feeds you lying to the vo...\n",
            "3        Rock  you say you know just who i am but you can t i...\n",
            "4        Rock  my heart is beating faster can t control these...\n",
            "...       ...                                                ...\n",
            "249943    R&B  i m the best friend he s got i d give him the ...\n",
            "249944    Pop  bad boys blue i totally miss you i did you wro...\n",
            "249945    Pop  forgive me for the things that i never said to...\n",
            "249946  Indie  the day they found a cure for aids the day the...\n",
            "249947    Pop  fourth of july has come it s custom that we go...\n",
            "\n",
            "[249948 rows x 2 columns]\n"
          ]
        }
      ]
    },
    {
      "cell_type": "code",
      "metadata": {
        "id": "X4-DKI1PCpBH",
        "colab": {
          "base_uri": "https://localhost:8080/"
        },
        "outputId": "274ed97b-3582-46ad-a32e-32857eadface"
      },
      "source": [
        "# Balance sampling of the DATA.\n",
        "# problem here is that some genre is oversampled too much(copied 11 times)\n",
        "# another problem is that this samping happens during the runtime,\n",
        "# so train set and validation set is mixed up every new runtime\n",
        "\n",
        "genre_id2name = ['Electronic', 'Country', 'R&B', 'Jazz', 'Indie', 'Pop', 'Folk', 'Metal', 'Hip-Hop', 'Rock']\n",
        "portion = len(train_dataset)//(10*12) # 10 classes, 1/12th of dataset\n",
        "equal_td = []\n",
        "train_dataset = train_dataset[['Genre', 'Lyrics']]\n",
        "for genre in genre_id2name:\n",
        "  td = train_dataset[train_dataset['Genre'] == genre]\n",
        "  equal_td.append(td.sample(n=portion,replace=True))\n",
        "  print(f'{genre}\\t sample ratio\\t {len(td)}:{portion}')\n",
        "  \n",
        "td = pd.concat(equal_td).reset_index().drop(columns=['index'])"
      ],
      "execution_count": 6,
      "outputs": [
        {
          "output_type": "stream",
          "name": "stdout",
          "text": [
            "Electronic\t sample ratio\t 2002:2082\n",
            "Country\t sample ratio\t 1890:2082\n",
            "R&B\t sample ratio\t 2763:2082\n",
            "Jazz\t sample ratio\t 13314:2082\n",
            "Indie\t sample ratio\t 7240:2082\n",
            "Pop\t sample ratio\t 86217:2082\n",
            "Folk\t sample ratio\t 8165:2082\n",
            "Metal\t sample ratio\t 19098:2082\n",
            "Hip-Hop\t sample ratio\t 2238:2082\n",
            "Rock\t sample ratio\t 107016:2082\n"
          ]
        }
      ]
    },
    {
      "cell_type": "code",
      "metadata": {
        "id": "hFmibSO3Li9e"
      },
      "source": [
        "class LyricsAndGenreDataset(Dataset):\n",
        "  def __init__(self, dataframe, tokenizer, num_sentence):\n",
        "    self.df = dataframe\n",
        "    self.tk = tokenizer\n",
        "    self.num_sentence = num_sentence\n",
        "    self.genre_name2id = {\n",
        "        'Electronic':0, \n",
        "        'Country':1, \n",
        "        'R&B':2, \n",
        "        'Jazz':3, \n",
        "        'Indie':4, \n",
        "        'Pop':5, \n",
        "        'Folk':6, \n",
        "        'Metal':7, \n",
        "        'Hip-Hop':8, \n",
        "        'Rock':9}\n",
        "\n",
        "  def __len__(self):\n",
        "    return len(self.df)\n",
        "  \n",
        "  def __getitem__(self, idx):\n",
        "    if torch.is_tensor(idx):\n",
        "      idx = idx.tolist()\n",
        "\n",
        "    genre = self.genre_name2id[self.df['Genre'][idx]]\n",
        "    lyric = [self.df['Lyrics'][idx]]\n",
        "\n",
        "    with torch.no_grad():\n",
        "      indexed_tokens = self.tk.batch_encode_plus(\n",
        "            lyric, add_special_tokens=True, padding= 'max_length', \n",
        "            max_length=2**9*self.num_sentence, truncation=True)\n",
        "      \n",
        "      tk_tensor = torch.tensor(indexed_tokens['input_ids']).view(-1,2**9)\n",
        "      sg_tensor = torch.tensor(indexed_tokens['token_type_ids']).view(-1,2**9)\n",
        "      at_tensor = torch.tensor(indexed_tokens['attention_mask']).view(-1,2**9)\n",
        "\n",
        "    return genre, tk_tensor, sg_tensor, at_tensor\n",
        "\n"
      ],
      "execution_count": 7,
      "outputs": []
    },
    {
      "cell_type": "code",
      "metadata": {
        "id": "2CRm3ZSysDXL"
      },
      "source": [
        "class TextLSTM(nn.Module):\n",
        "  def __init__(self, input_size, hidden_size, num_layers, n_class, dropout):\n",
        "    super(TextLSTM, self).__init__()\n",
        "\n",
        "    self.hidden_size = hidden_size\n",
        "\n",
        "    self.lstm1 = nn.LSTM(\n",
        "              input_size=input_size,\n",
        "              hidden_size=hidden_size*5,\n",
        "              num_layers=1,\n",
        "              dropout=0,\n",
        "              batch_first=True)\n",
        "    \n",
        "    self.lstm2 = nn.LSTM(\n",
        "              input_size=hidden_size*5,\n",
        "              hidden_size=hidden_size*4,\n",
        "              num_layers=1,\n",
        "              dropout=0,\n",
        "              batch_first=True)\n",
        "\n",
        "    self.lstm3 = nn.LSTM(\n",
        "              input_size=hidden_size*4,\n",
        "              hidden_size=hidden_size*2,\n",
        "              num_layers=1,\n",
        "              dropout=0,\n",
        "              batch_first=True)\n",
        "    \n",
        "    self.lstm4 = nn.LSTM(\n",
        "              input_size=hidden_size*2,\n",
        "              hidden_size=hidden_size,\n",
        "              num_layers=1,\n",
        "              dropout=0,\n",
        "              batch_first=True)\n",
        "\n",
        "    self.dense = nn.Sequential(\n",
        "        nn.Dropout(dropout),\n",
        "        nn.ReLU(),\n",
        "        nn.Linear(hidden_size, n_class),\n",
        "        nn.Softmax(dim=1))\n",
        "\n",
        "  def forward(self, X, seq_len):\n",
        "    # X of shape N,L,Hin\n",
        "    # hidden_and_cell zeros by default\n",
        "    # outputs of shape N,L,Hout\n",
        "\n",
        "    outputs, hidden_and_cell = self.lstm1(X)\n",
        "    outputs, hidden_and_cell = self.lstm2(outputs)\n",
        "    seq_len = torch.tile(seq_len.view(batch_size,1,1),(1,1,self.hidden_size))\n",
        "    outputs = torch.gather(outputs,1,seq_len)\n",
        "    outputs = outputs[:,-1]  # last hidden Layer of shape N,Hout\n",
        "    return self.dense(outputs) # return of shape N,n_class"
      ],
      "execution_count": 8,
      "outputs": []
    },
    {
      "cell_type": "code",
      "metadata": {
        "id": "LLOYTQv48ebr"
      },
      "source": [
        "def save_checkpoint(current_epoch, model, PATH):\n",
        "  torch.save({\n",
        "      'current_epoch':current_epoch,\n",
        "      'model':model.state_dict()\n",
        "  }, PATH)"
      ],
      "execution_count": 9,
      "outputs": []
    },
    {
      "cell_type": "code",
      "metadata": {
        "id": "BzydjUUw-8cv"
      },
      "source": [
        "#### hyperparameters ####\n",
        "epoch = 20\n",
        "lr = 0.001\n",
        "batch_size = 128\n",
        "num_sentences = 1 # one sentence has 512 tokens\n",
        "hidden_size = 128\n",
        "num_layers = 1\n",
        "dropout = 0.3\n",
        "save_epoch = 1\n",
        "save_path = 'checkpoint.pth'\n",
        "epoch_start = 0\n",
        "\n",
        "# fixed\n",
        "v_dim = 768\n",
        "n_genre = 10\n",
        "genre_id2name = ['Electronic', 'Country', 'R&B', 'Jazz', 'Indie', 'Pop', 'Folk', 'Metal', 'Hip-Hop', 'Rock']\n",
        "genre_name2id = {'Electronic':0, 'Country':1, 'R&B':2, 'Jazz':3, 'Indie':4, 'Pop':5, 'Folk':6, 'Metal':7, 'Hip-Hop':8, 'Rock':9}\n",
        "device = torch.device('cuda') if (torch.cuda.is_available())else torch.device('cpu')"
      ],
      "execution_count": 14,
      "outputs": []
    },
    {
      "cell_type": "code",
      "metadata": {
        "colab": {
          "base_uri": "https://localhost:8080/"
        },
        "id": "bKQ4Hitqbsn5",
        "outputId": "7593da3f-76d2-4564-b86a-aa941eae3731"
      },
      "source": [
        "tokenizer = torch.hub.load('huggingface/pytorch-transformers', 'tokenizer', 'bert-base-cased')\n",
        "bert_embedding = torch.hub.load('huggingface/pytorch-transformers', 'model', 'bert-base-cased').to(device)\n",
        "\n",
        "\n",
        "dset = LyricsAndGenreDataset(td,tokenizer,num_sentences)\n",
        "split_size = [\n",
        "              int(0.8*len(dset)),\n",
        "              len(dset)-int(0.8*len(dset))]\n",
        "# train_set, val_set = torch.utils.data.random_split(dset,split_size)\n",
        "\n",
        "train_loader = DataLoader(train_set,batch_size=batch_size, shuffle=True, \n",
        "                          num_workers=0, drop_last=True)\n",
        "val_loader = DataLoader(val_set,batch_size=batch_size, shuffle=True, \n",
        "                          num_workers=0, drop_last=True)\n",
        "\n",
        "lstm_classifier = TextLSTM(v_dim, hidden_size, num_layers, n_genre, dropout).to(device)\n",
        "\n",
        "# load model if possible\n",
        "try:\n",
        "  cp = torch.load(save_path)\n",
        "  epoch_start= cp['current_epoch']+1\n",
        "  lstm_classifier.load_state_dict(cp['model'])\n",
        "except FileNotFoundError:\n",
        "  print('no savefile to load')\n",
        "\n",
        "loss_func = nn.CrossEntropyLoss()\n",
        "params = list(lstm_classifier.parameters())\n",
        "optimizer = optim.Adam(params, lr=lr)"
      ],
      "execution_count": 15,
      "outputs": [
        {
          "output_type": "stream",
          "name": "stderr",
          "text": [
            "Using cache found in /root/.cache/torch/hub/huggingface_pytorch-transformers_master\n",
            "Using cache found in /root/.cache/torch/hub/huggingface_pytorch-transformers_master\n",
            "Some weights of the model checkpoint at bert-base-cased were not used when initializing BertModel: ['cls.predictions.transform.LayerNorm.weight', 'cls.predictions.decoder.weight', 'cls.predictions.transform.dense.weight', 'cls.predictions.transform.LayerNorm.bias', 'cls.predictions.bias', 'cls.seq_relationship.weight', 'cls.seq_relationship.bias', 'cls.predictions.transform.dense.bias']\n",
            "- This IS expected if you are initializing BertModel from the checkpoint of a model trained on another task or with another architecture (e.g. initializing a BertForSequenceClassification model from a BertForPreTraining model).\n",
            "- This IS NOT expected if you are initializing BertModel from the checkpoint of a model that you expect to be exactly identical (initializing a BertForSequenceClassification model from a BertForSequenceClassification model).\n"
          ]
        }
      ]
    },
    {
      "cell_type": "code",
      "metadata": {
        "colab": {
          "base_uri": "https://localhost:8080/"
        },
        "id": "Fy50XfKoQ6dj",
        "outputId": "08d1ea24-4324-4807-d733-7a0ca642a0d8"
      },
      "source": [
        "train_loss_list = []\n",
        "val_loss_list = []\n",
        "train_acc_list = []\n",
        "val_acc_list = []\n",
        "\n",
        "\n",
        "for e in range(epoch_start, epoch, 1):\n",
        "  for b,batch in enumerate(train_loader):\n",
        "    label_batch = batch[0].to(device)\n",
        "    tk_batch = batch[1].to(device)\n",
        "    sg_batch = batch[2].to(device)\n",
        "    at_batch = batch[3].to(device)\n",
        "\n",
        "    seq_len = np.sum(at_batch.detach().cpu().numpy(), axis=(1,2)) - 1\n",
        "    seq_len = torch.LongTensor(seq_len).to(device)\n",
        "\n",
        "    with torch.no_grad():\n",
        "      embedding = bert_embedding(\n",
        "          tk_batch.view(-1,2**9), \n",
        "          token_type_ids= sg_batch.view(-1,2**9),\n",
        "          attention_mask=at_batch.view(-1,2**9))\n",
        "\n",
        "    embedded_tokens = embedding[0].detach().view(batch_size,2**9*num_sentences,-1)\n",
        "    #print(embedded_tokens[:,-1])\n",
        "\n",
        "    output = lstm_classifier.forward(embedded_tokens, seq_len)\n",
        "\n",
        "    optimizer.zero_grad()\n",
        "    loss = loss_func(output, label_batch)\n",
        "    loss.backward()\n",
        "    optimizer.step()\n",
        "    \n",
        "    if b%4 == 0:\n",
        "      train_loss_list.append(float(loss.detach().cpu().data))\n",
        "      pred = np.argmax(output.detach().cpu().numpy(),axis=1).flatten()\n",
        "      acc = np.mean(pred == label_batch.detach().cpu().numpy().flatten())\n",
        "      train_acc_list.append(float(acc))\n",
        "\n",
        "      print(f'\\rTRAIN: epoch {e} batch {b}\\\n",
        "       loss {train_loss_list[-1]}\\t acc {train_acc_list[-1]}', end='\\t')\n",
        "\n",
        "  for b,batch in enumerate(val_loader):\n",
        "    label_batch = batch[0].to(device)\n",
        "    tk_batch = batch[1].to(device)\n",
        "    sg_batch = batch[2].to(device)\n",
        "    at_batch = batch[3].to(device)\n",
        "\n",
        "    seq_len = np.sum(at_batch.detach().cpu().numpy(), axis=(1,2)) - 1\n",
        "    seq_len = torch.LongTensor(seq_len).to(device)\n",
        "\n",
        "    with torch.no_grad():\n",
        "      embedding = bert_embedding(\n",
        "          tk_batch.view(-1,2**9), \n",
        "          token_type_ids= sg_batch.view(-1,2**9),\n",
        "          attention_mask=at_batch.view(-1,2**9))\n",
        "\n",
        "      embedded_tokens = embedding[0].view(batch_size,2**9*num_sentences,-1)\n",
        "\n",
        "      output = lstm_classifier.forward(embedded_tokens, seq_len)\n",
        "\n",
        "      optimizer.zero_grad()\n",
        "      loss = loss_func(output, label_batch)\n",
        "    \n",
        "\n",
        "    val_loss_list.append(float(loss.detach().cpu().data))\n",
        "    pred = np.argmax(output.detach().cpu().numpy(),axis=1).flatten()\n",
        "    acc = np.mean(pred == label_batch.detach().cpu().numpy().flatten())\n",
        "    val_acc_list.append(float(acc))\n",
        "\n",
        "    print(f'\\rVAL: epoch {e} batch {b}\\\n",
        "       loss {val_loss_list[-1]}\\t acc {val_acc_list[-1]}', end='\\t')\n",
        "\n",
        "  if e%save_epoch == 0:\n",
        "    save_checkpoint(e,lstm_classifier,save_path)"
      ],
      "execution_count": 16,
      "outputs": [
        {
          "output_type": "stream",
          "name": "stdout",
          "text": [
            "VAL: epoch 19 batch 31       loss 1.9562441110610962\t acc 0.5\t"
          ]
        }
      ]
    },
    {
      "cell_type": "code",
      "metadata": {
        "colab": {
          "base_uri": "https://localhost:8080/",
          "height": 655
        },
        "id": "rioAHKubt-aD",
        "outputId": "ce675c4f-ae8f-4a1e-83b6-77f1063b4efd"
      },
      "source": [
        "import matplotlib.pyplot as plt\n",
        "\n",
        "plt.figure(figsize=(5,5))\n",
        "plt.title('Train validation Loss')\n",
        "plt.plot(train_loss_list, label='train loss')\n",
        "plt.plot(val_loss_list, label='val loss')\n",
        "plt.legend()\n",
        "plt.show()\n",
        "\n",
        "plt.figure(figsize=(5,5))\n",
        "plt.title('Train validation acc')\n",
        "plt.plot(train_acc_list, label='train acc')\n",
        "plt.plot(val_acc_list, label='val acc')\n",
        "plt.legend()\n",
        "plt.show()"
      ],
      "execution_count": 17,
      "outputs": [
        {
          "output_type": "display_data",
          "data": {
            "image/png": "[encoded data removed]",
            "text/plain": [
              "<Figure size 360x360 with 1 Axes>"
            ]
          },
          "metadata": {
            "needs_background": "light"
          }
        },
        {
          "output_type": "display_data",
          "data": {
            "image/png": "[encoded data removed]",
            "text/plain": [
              "<Figure size 360x360 with 1 Axes>"
            ]
          },
          "metadata": {
            "needs_background": "light"
          }
        }
      ]
    }
  ]
}